{
 "cells": [
  {
   "cell_type": "code",
   "execution_count": 3,
   "metadata": {},
   "outputs": [],
   "source": [
    "import pymongo\n",
    "from pymongo import MongoClient\n",
    "\n",
    "client = MongoClient()\n",
    "\n",
    "Querydb = client['Query'] #Define Database\n",
    "\n",
    "quote_collection = Querydb['Quotes'] #Define Quote Collection\n",
    "word_collection =  Querydb['Words'] #Define Words Collection"
   ]
  },
  {
   "cell_type": "code",
   "execution_count": 42,
   "metadata": {},
   "outputs": [],
   "source": [
    "import csv\n",
    "with open('C:/Users/Prateek/Desktop/Words.csv', 'r') as wordfile:\n",
    "    has_header = csv.Sniffer().has_header(wordfile.readline())\n",
    "    wordfile.seek(0)  # Rewind.\n",
    "    data = csv.reader(wordfile)\n",
    "    \n",
    "    for row in data:\n",
    "        word_collection.insert_one({'word_id':row[0], 'search_word':row[1]})\n"
   ]
  },
  {
   "cell_type": "code",
   "execution_count": 43,
   "metadata": {},
   "outputs": [],
   "source": [
    "with open('C:/Users/Prateek/Desktop/Quotes.csv', 'r') as Quotefile:\n",
    "    data = csv.reader(Quotefile)\n",
    "    \n",
    "    for row in data:\n",
    "        quote_collection.insert_one({'quote_id':row[0], 'author':row[1], 'quote':row[2]})\n",
    "    "
   ]
  },
  {
   "cell_type": "code",
   "execution_count": 48,
   "metadata": {},
   "outputs": [],
   "source": [
    "search_word = [word['search_word'] for word in word_collection.find()]"
   ]
  },
  {
   "cell_type": "code",
   "execution_count": 38,
   "metadata": {},
   "outputs": [],
   "source": [
    "single_sentence = ' '.join(val['quote'] for val in quote_collection.find()).lower()\n",
    "#single_sentence"
   ]
  },
  {
   "cell_type": "code",
   "execution_count": 39,
   "metadata": {},
   "outputs": [],
   "source": [
    "word_count = {word:single_sentence.count(word) for word in search_word}"
   ]
  },
  {
   "cell_type": "code",
   "execution_count": 40,
   "metadata": {},
   "outputs": [
    {
     "data": {
      "text/plain": [
       "{'genius': 4,\n",
       " 'search_word': 0,\n",
       " 'order': 4,\n",
       " 'idea ': 1,\n",
       " 'hope': 4,\n",
       " 'possible': 10,\n",
       " 'learn': 20,\n",
       " 'future': 6,\n",
       " 'wisdom': 14,\n",
       " 'dream': 16,\n",
       " 'better': 13,\n",
       " 'life': 42,\n",
       " 'every': 29,\n",
       " 'fate': 2,\n",
       " 'people': 14,\n",
       " 'luck': 5,\n",
       " 'wish': 5,\n",
       " 'mistake': 7,\n",
       " 'opportunity': 5,\n",
       " 'world': 20,\n",
       " 'today': 9,\n",
       " 'trust': 7,\n",
       " 'nothing': 26,\n",
       " 'experience': 5,\n",
       " 'past': 5,\n",
       " 'way': 47,\n",
       " 'work': 12,\n",
       " 'well': 5,\n",
       " 'trouble': 1,\n",
       " 'beginning': 4,\n",
       " 'choice': 2}"
      ]
     },
     "execution_count": 40,
     "metadata": {},
     "output_type": "execute_result"
    }
   ],
   "source": [
    "word_count"
   ]
  },
  {
   "cell_type": "code",
   "execution_count": null,
   "metadata": {},
   "outputs": [],
   "source": []
  }
 ],
 "metadata": {
  "kernelspec": {
   "display_name": "Python 3",
   "language": "python",
   "name": "python3"
  },
  "language_info": {
   "codemirror_mode": {
    "name": "ipython",
    "version": 3
   },
   "file_extension": ".py",
   "mimetype": "text/x-python",
   "name": "python",
   "nbconvert_exporter": "python",
   "pygments_lexer": "ipython3",
   "version": "3.7.0"
  }
 },
 "nbformat": 4,
 "nbformat_minor": 2
}
